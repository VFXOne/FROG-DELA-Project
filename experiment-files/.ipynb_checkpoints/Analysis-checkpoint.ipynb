{
 "cells": [
  {
   "cell_type": "code",
   "execution_count": 1,
   "metadata": {},
   "outputs": [],
   "source": [
    "import numpy as np\n",
    "import pandas as pd\n",
    "import json"
   ]
  },
  {
   "cell_type": "code",
   "execution_count": 2,
   "metadata": {},
   "outputs": [],
   "source": [
    "def answeredTrue(answer):\n",
    "    if answer.get('0') is not None:\n",
    "        return 1\n",
    "    else:\n",
    "        return 0\n",
    "\n",
    "def valueOrZero(answer):\n",
    "    if answer.get('value'):\n",
    "        return int(answer['value'])\n",
    "    else:\n",
    "        return 0\n",
    "    \n",
    "def loadData(path):\n",
    "    with open(path) as f:\n",
    "        jfile = json.load(f)\n",
    "    return jfile['payload']\n",
    "\n",
    "def sortScores(scores):\n",
    "    return sorted(list(scores.items()), key=lambda s: -s[1])"
   ]
  },
  {
   "cell_type": "code",
   "execution_count": 3,
   "metadata": {},
   "outputs": [],
   "source": [
    "path_guess_the_trick = 'ac/1-guess-the-trick__p1__ac-quiz-2hul/product.json'\n",
    "path_user_mapping = 'op/argue-with-constrai__op-argue-constraint-3fzq/object.json'\n",
    "path_peer_review = 'ac/5-review-your-partners__p1__ac-quiz-2jjm/product.json'\n",
    "path_auto_review = 'ac/6-auto-review__p1__ac-quiz-1jpz/product.json'\n",
    "path_ranking_t1 = 'ac/6-ranking-t1__p1__ac-ranking-8blf/product.json'\n",
    "path_ranking_t2 = 'ac/6-ranking-t2__p1__ac-ranking-b07c/product.json'\n",
    "path_review_pairing = 'op/argue-with-constrai__op-argue-constraint-3fzq/product.json'\n",
    "path_groups = 'op/create-groups__op-create-groups-8lh1/product.json'"
   ]
  },
  {
   "cell_type": "markdown",
   "metadata": {},
   "source": [
    "## Preparation: user mapping"
   ]
  },
  {
   "cell_type": "code",
   "execution_count": 4,
   "metadata": {},
   "outputs": [],
   "source": [
    "with open(path_user_mapping) as f:\n",
    "    mapping = json.load(f)\n",
    "idToStud = mapping['globalStructure']['students']\n",
    "studToId = {v: k for k, v in idToStud.items()} #inverse mapping"
   ]
  },
  {
   "cell_type": "code",
   "execution_count": 5,
   "metadata": {},
   "outputs": [],
   "source": [
    "with open(path_groups) as f:\n",
    "    trick_groups = json.load(f)['socialStructure']['group']\n",
    "\n",
    "#odd: trick 1 (packet flip trick), pair: trick 2 (bent card trick)\n",
    "def groupNumber(student):\n",
    "    for groupNumber, groupList in trick_groups.items():\n",
    "        if student in groupList:\n",
    "            return int(groupNumber)\n",
    "    return -1"
   ]
  },
  {
   "cell_type": "markdown",
   "metadata": {},
   "source": [
    "## First part: evaluate magic knowledge"
   ]
  },
  {
   "cell_type": "code",
   "execution_count": 6,
   "metadata": {},
   "outputs": [],
   "source": [
    "data = loadData(path_guess_the_trick)"
   ]
  },
  {
   "cell_type": "code",
   "execution_count": 7,
   "metadata": {},
   "outputs": [],
   "source": [
    "knowledge = {}\n",
    "for student in data:\n",
    "    d = {}\n",
    "    answers = data[student]['data']['form']\n",
    "    d['guess_trick'] = answers['0']['text']\n",
    "    score = 0\n",
    "    score += answeredTrue(answers['1'])\n",
    "    for mcq in answers['2']:\n",
    "        if mcq and mcq not in ['0', 'text']: #For each kind of magic trick learned\n",
    "            score+=1\n",
    "    score += valueOrZero(answers['3']) #Magic knowledge\n",
    "    score += answeredTrue(answers['4']) #See changed cap = Yes\n",
    "    d['score'] = score\n",
    "    knowledge[student] = d"
   ]
  },
  {
   "cell_type": "code",
   "execution_count": 8,
   "metadata": {},
   "outputs": [
    {
     "name": "stdout",
     "output_type": "stream",
     "text": [
      "At the second time, the coin falls on your knees1\n",
      "I think he dropped the piece off the table before scratching his arm1\n",
      "0\n",
      "I don't know.0\n",
      "I'm not sure (was still logging into frog, sorry!)0\n",
      "Two coins stacked on top of each other, then sweeps then onto lap;\n",
      "Could also be one coin but got hinted/misdirected at two with the doublelift video 0\n",
      "he hides the coin with the arm and hand which he used to hold the coin when he lets it drop.0\n",
      "0\n",
      "the coin fall on the knees of the magician1\n",
      "No idea0\n",
      "I missed the trick :( 0\n",
      "coin falls down1\n",
      "The coin fell out of the screen video almost, so the magician simply pushed the coin out of the screen, instead of reaching out to pick it up.0\n",
      "third time you throw the coin under the table.1\n",
      "0\n",
      "0\n",
      "The coin fell in his lap 1\n",
      "0\n",
      "Distraction by letting the coin going away, the second time you glide it under the table (?)1\n",
      "The first 2 times, the coin falls on the table. That makes us watch the falling point on the thrid time, misleading us no to see the coin fall on the magician's lap. Focusing all the time on his right hand, we can spot a strange move, that's probably when he made the coin \"disappear\" my \"throwing\" it on his lapx.1\n",
      "0\n"
     ]
    }
   ],
   "source": [
    "#Parse answers\n",
    "#You'll be prompted the text the student wrote and you can grade his/her answers\n",
    "for student in knowledge:\n",
    "    mark = int(input(knowledge[student]['guess_trick']))\n",
    "    previous_score = knowledge[student]['score']\n",
    "    knowledge[student].pop('guess_trick')\n",
    "    knowledge[student].pop('score')\n",
    "    knowledge[student] = previous_score + mark"
   ]
  },
  {
   "cell_type": "code",
   "execution_count": 9,
   "metadata": {
    "scrolled": false
   },
   "outputs": [
    {
     "name": "stdout",
     "output_type": "stream",
     "text": [
      "[('3C2G6L2Lb7Xc9pWLE', 16), ('SeuW5C9Zh7BYK6qCb', 14), ('tGZEmTZtkhSJMp2u6', 9), ('WxQyEYgu2aYuFhvBB', 8), ('5evKgJk6KjDdDqSZZ', 7), ('aq7paoDD2G6YADc2Y', 7), ('si96GLusTjpboyLXY', 7), ('EBTm8RrapfNuTADYE', 6), ('QiKRKRbxb8kMjYiLH', 6), ('cJ9ydcLaGxLuvMgEw', 6), ('g939ZKLYnmXXcYYmd', 6), ('p6jyEN63CBePh9pJL', 6), ('F8QHpjcxav78R9o62', 5), ('KngyjFCgLrzfN6XaR', 5), ('YLSgM2PrWYhGfjhoz', 4), ('tkMkquazFa4TZBd8C', 1), ('9CBRzuDF4CNFmrAQq', 0), ('RpdvawqmcQcXKLAcL', 0), ('jejaoCvoJPnvTFC3X', 0), ('miDuMw8zNEk2aC6FM', 0), ('sY2PHLSsXkPtG4hWy', 0)]\n"
     ]
    }
   ],
   "source": [
    "knowledge_ranked = sortScores(knowledge)\n",
    "print(knowledge_ranked)"
   ]
  },
  {
   "cell_type": "markdown",
   "metadata": {},
   "source": [
    "## Second part: partner evaluation"
   ]
  },
  {
   "cell_type": "code",
   "execution_count": 10,
   "metadata": {},
   "outputs": [],
   "source": [
    "data = loadData(path_peer_review)\n",
    "with open(path_review_pairing) as f:\n",
    "    pairing = json.load(f)['socialStructure']['group']\n",
    "\n",
    "def findPartner(studID):\n",
    "    for _, pairList in pairing.items():\n",
    "        if studID in pairList:\n",
    "            index = pairList.index(studID)\n",
    "            size = len(pairList)\n",
    "            return pairList[(size-1 + index) % size] #return the next element in list"
   ]
  },
  {
   "cell_type": "code",
   "execution_count": 11,
   "metadata": {},
   "outputs": [],
   "source": [
    "mcq_answer_t1 = {\"0\": False, \"1\": True, \"2\": False, \"3\": False, \"text\": \"\"} #Only misdirection\n",
    "mcq_answer_t2 = {\"0\": True, \"1\": False, \"2\": False, \"3\": False, \"text\": \"\"} #Only double lift"
   ]
  },
  {
   "cell_type": "code",
   "execution_count": 12,
   "metadata": {},
   "outputs": [
    {
     "name": "stdout",
     "output_type": "stream",
     "text": [
      "She misdirected me but we weren't able to record it for dropbox reasons unfortunally1\n",
      "I'm sorry but the video on frog did not work for me, so I was unable to join a teammate and show my trick or see my teammate's trick. Sorry for the inconveniance....\n",
      "I was alone in the reunion\n",
      "It was too fast (we took the whole time to set up recording on Dropbox) so it was hard for me to understand what he was saying, he did it so fast!\n",
      "I already knew the trick; The deck was prepped by flipping it and putting one card face down before putting the pulled card into the deck. I did get misdirected though but knew how the trick worked so i could figure it out afterhand1\n",
      "I couldn't join a room to show the trick. So I won't answer the above to not bias anything.\n",
      "He didn't have time to perform\n",
      "He dissimulated the right card with the double lift or something1\n",
      "My camera and mic did not work somehow on frog I could not do the activity sorry :( \n",
      "We couldn't complete the trick, my classmate's microphone wasn't working and then he took a while to set up the dropbox account, so neither of us had the time to show the trick.\n",
      "As he didn't come I believe he used the 'lazy' trick :(  \n",
      "I was alone\n",
      "I was alone\n",
      "j'Ã©tais tout seul\n"
     ]
    }
   ],
   "source": [
    "review_scores = {}\n",
    "for student in data:\n",
    "    paired_student = findPartner(student)\n",
    "    answers = data[student]['data']['form']\n",
    "    if not answers['3']['text']:\n",
    "        review_scores[paired_student] = -1\n",
    "        continue\n",
    "    else: #check answers manually\n",
    "        val = input(answers['3']['text']) #Leave empty to invalidate\n",
    "        if not val:\n",
    "            review_scores[paired_student] = -1\n",
    "            continue\n",
    "        score = answeredTrue(answers['0'])\n",
    "        score += valueOrZero(answers['1'])\n",
    "        if groupNumber(student) % 2 == 0: #Techniques used\n",
    "            #trick 2\n",
    "            score += int(answers['2'] == mcq_answer_t2)\n",
    "        else:\n",
    "            #trick 1\n",
    "            score += int(answers['2'] == mcq_answer_t1)\n",
    "        review_scores[paired_student] = score"
   ]
  },
  {
   "cell_type": "code",
   "execution_count": 13,
   "metadata": {},
   "outputs": [
    {
     "data": {
      "text/plain": [
       "[('KngyjFCgLrzfN6XaR', 10),\n",
       " ('cJ9ydcLaGxLuvMgEw', 8),\n",
       " ('WxQyEYgu2aYuFhvBB', 8),\n",
       " ('RpdvawqmcQcXKLAcL', -1),\n",
       " ('p6jyEN63CBePh9pJL', -1),\n",
       " ('YLSgM2PrWYhGfjhoz', -1),\n",
       " ('SeuW5C9Zh7BYK6qCb', -1),\n",
       " ('tGZEmTZtkhSJMp2u6', -1),\n",
       " ('5evKgJk6KjDdDqSZZ', -1),\n",
       " ('F8QHpjcxav78R9o62', -1),\n",
       " ('EBTm8RrapfNuTADYE', -1),\n",
       " ('si96GLusTjpboyLXY', -1),\n",
       " ('3C2G6L2Lb7Xc9pWLE', -1),\n",
       " ('sY2PHLSsXkPtG4hWy', -1),\n",
       " ('tkMkquazFa4TZBd8C', -1),\n",
       " ('g939ZKLYnmXXcYYmd', -1),\n",
       " ('9CBRzuDF4CNFmrAQq', -1),\n",
       " ('miDuMw8zNEk2aC6FM', -1),\n",
       " ('aq7paoDD2G6YADc2Y', -1),\n",
       " ('QiKRKRbxb8kMjYiLH', -1),\n",
       " ('jejaoCvoJPnvTFC3X', -1)]"
      ]
     },
     "execution_count": 13,
     "metadata": {},
     "output_type": "execute_result"
    }
   ],
   "source": [
    "review_scores_ranked = sortScores(review_scores)\n",
    "review_scores_ranked"
   ]
  },
  {
   "cell_type": "markdown",
   "metadata": {},
   "source": [
    "## Third part: auto evaluation"
   ]
  },
  {
   "cell_type": "code",
   "execution_count": 14,
   "metadata": {},
   "outputs": [],
   "source": [
    "data = loadData(path_auto_review)"
   ]
  },
  {
   "cell_type": "code",
   "execution_count": 15,
   "metadata": {},
   "outputs": [],
   "source": [
    "auto_eval = {}\n",
    "for student in data:\n",
    "    answers = data[student]['data']['form']\n",
    "    score = 0\n",
    "    score += valueOrZero(answers['0']) #Rate performance\n",
    "    score += valueOrZero(answers['1']) #How well will you remember\n",
    "    score += answeredTrue(answers['2']) * 10 #Better with more time\n",
    "    score += valueOrZero(answers['3']) #Fool colleague\n",
    "    auto_eval[student] = score"
   ]
  },
  {
   "cell_type": "code",
   "execution_count": 16,
   "metadata": {},
   "outputs": [
    {
     "data": {
      "text/plain": [
       "[('3C2G6L2Lb7Xc9pWLE', 38),\n",
       " ('WxQyEYgu2aYuFhvBB', 36),\n",
       " ('g939ZKLYnmXXcYYmd', 29),\n",
       " ('9CBRzuDF4CNFmrAQq', 27),\n",
       " ('EBTm8RrapfNuTADYE', 24),\n",
       " ('tGZEmTZtkhSJMp2u6', 24),\n",
       " ('5evKgJk6KjDdDqSZZ', 22),\n",
       " ('si96GLusTjpboyLXY', 22),\n",
       " ('QiKRKRbxb8kMjYiLH', 21),\n",
       " ('KngyjFCgLrzfN6XaR', 20),\n",
       " ('F8QHpjcxav78R9o62', 19),\n",
       " ('cJ9ydcLaGxLuvMgEw', 17),\n",
       " ('SeuW5C9Zh7BYK6qCb', 16),\n",
       " ('tkMkquazFa4TZBd8C', 11),\n",
       " ('YLSgM2PrWYhGfjhoz', 10),\n",
       " ('RpdvawqmcQcXKLAcL', 0),\n",
       " ('aq7paoDD2G6YADc2Y', 0),\n",
       " ('jejaoCvoJPnvTFC3X', 0),\n",
       " ('miDuMw8zNEk2aC6FM', 0),\n",
       " ('p6jyEN63CBePh9pJL', 0),\n",
       " ('sY2PHLSsXkPtG4hWy', 0)]"
      ]
     },
     "execution_count": 16,
     "metadata": {},
     "output_type": "execute_result"
    }
   ],
   "source": [
    "auto_eval_ranked = sortScores(auto_eval)\n",
    "auto_eval_ranked"
   ]
  },
  {
   "cell_type": "markdown",
   "metadata": {},
   "source": [
    "## Fourth part: ranking activity evaluation"
   ]
  },
  {
   "cell_type": "code",
   "execution_count": 17,
   "metadata": {},
   "outputs": [],
   "source": [
    "data_t1 = loadData(path_ranking_t1)\n",
    "data_t2 = loadData(path_ranking_t2)"
   ]
  },
  {
   "cell_type": "code",
   "execution_count": 18,
   "metadata": {},
   "outputs": [],
   "source": [
    "correct_order_t1 = {\n",
    "            \"Flip the bottom card of the deck\": 1,\n",
    "            \"Perform a misdirection to flip the packet\": 2,\n",
    "            \"Replace the spectator's card in the middle of the deck\": 3,\n",
    "            \"Remove the first card of the deck to reveal that all cards have been 'magically' flipped\": 4,\n",
    "            \"Reveal the chosen card\": 5,\n",
    "            \"----END OF THE TRICK----\": 6,\n",
    "            \"Remove the two first cards\": 7,\n",
    "            \"Flip the top three cards\": 8\n",
    "          }\n",
    "correct_order_t2 = {\n",
    "            \"Execute a double lift\": 1,\n",
    "            \"Bend the two cards as one\": 2,\n",
    "            \"Place the top card in the middle of the deck\": 3,\n",
    "            \"Keep the bent top card hidden (flat) while replacing the other one in the middle of the deck\": 4,\n",
    "            \"Let the top card pop\": 5,\n",
    "            \"----END OF THE TRICK----\": 6,\n",
    "            \"Draw 2 cards and discard one \": 7\n",
    "          }"
   ]
  },
  {
   "cell_type": "code",
   "execution_count": 19,
   "metadata": {},
   "outputs": [],
   "source": [
    "ranking_score_t1 = {}\n",
    "for student in data_t1:\n",
    "    answers = data_t1[student]['data']['answers']\n",
    "    if answers.get(student) and answers[student]:\n",
    "        student_ranking = answers[student]\n",
    "        mistakes = 0\n",
    "        for question, order in correct_order_t1.items():\n",
    "            if not student_ranking.get(question) or (order < 6 and abs(student_ranking[question] - order) != mistakes):\n",
    "                mistakes += 1\n",
    "        ranking_score_t1[student] = max(0, 10 - mistakes)"
   ]
  },
  {
   "cell_type": "code",
   "execution_count": 20,
   "metadata": {},
   "outputs": [
    {
     "data": {
      "text/plain": [
       "[('EBTm8RrapfNuTADYE', 10),\n",
       " ('SeuW5C9Zh7BYK6qCb', 10),\n",
       " ('QiKRKRbxb8kMjYiLH', 8),\n",
       " ('WxQyEYgu2aYuFhvBB', 8),\n",
       " ('cJ9ydcLaGxLuvMgEw', 8)]"
      ]
     },
     "execution_count": 20,
     "metadata": {},
     "output_type": "execute_result"
    }
   ],
   "source": [
    "ranking_score_t1_ranked = sortScores(ranking_score_t1)\n",
    "ranking_score_t1_ranked"
   ]
  },
  {
   "cell_type": "code",
   "execution_count": 21,
   "metadata": {},
   "outputs": [],
   "source": [
    "ranking_score_t2 = {}\n",
    "for student in data_t2:\n",
    "    answers = data_t2[student]['data']['answers']\n",
    "    if answers.get(student) and answers[student]:\n",
    "        student_ranking = answers[student]\n",
    "        mistakes = 0\n",
    "        for question, order in correct_order_t2.items():\n",
    "            if not student_ranking.get(question) or (order < 6 and abs(student_ranking[question] - order) != mistakes):\n",
    "                mistakes += 1\n",
    "        ranking_score_t2[student] = max(0, 10 - mistakes)"
   ]
  },
  {
   "cell_type": "code",
   "execution_count": 22,
   "metadata": {},
   "outputs": [
    {
     "data": {
      "text/plain": [
       "[('3C2G6L2Lb7Xc9pWLE', 10),\n",
       " ('tkMkquazFa4TZBd8C', 10),\n",
       " ('5evKgJk6KjDdDqSZZ', 9),\n",
       " ('KngyjFCgLrzfN6XaR', 9),\n",
       " ('si96GLusTjpboyLXY', 9),\n",
       " ('tGZEmTZtkhSJMp2u6', 9),\n",
       " ('9CBRzuDF4CNFmrAQq', 6),\n",
       " ('F8QHpjcxav78R9o62', 6),\n",
       " ('g939ZKLYnmXXcYYmd', 6),\n",
       " ('YLSgM2PrWYhGfjhoz', 5)]"
      ]
     },
     "execution_count": 22,
     "metadata": {},
     "output_type": "execute_result"
    }
   ],
   "source": [
    "ranking_score_t2_ranked = sortScores(ranking_score_t2)\n",
    "ranking_score_t2_ranked"
   ]
  },
  {
   "cell_type": "code",
   "execution_count": 23,
   "metadata": {},
   "outputs": [],
   "source": [
    "ranking_score_all = {}\n",
    "for student, name in idToStud.items():\n",
    "    if ranking_score_t1.get(student):\n",
    "        score = ranking_score_t1[student]\n",
    "    elif ranking_score_t2.get(student):\n",
    "        score = ranking_score_t2[student]\n",
    "    else:\n",
    "        score = 0\n",
    "    ranking_score_all[student] = score"
   ]
  },
  {
   "cell_type": "code",
   "execution_count": 24,
   "metadata": {},
   "outputs": [
    {
     "data": {
      "text/plain": [
       "[('EBTm8RrapfNuTADYE', 10),\n",
       " ('3C2G6L2Lb7Xc9pWLE', 10),\n",
       " ('SeuW5C9Zh7BYK6qCb', 10),\n",
       " ('tkMkquazFa4TZBd8C', 10),\n",
       " ('tGZEmTZtkhSJMp2u6', 9),\n",
       " ('si96GLusTjpboyLXY', 9),\n",
       " ('5evKgJk6KjDdDqSZZ', 9),\n",
       " ('KngyjFCgLrzfN6XaR', 9),\n",
       " ('cJ9ydcLaGxLuvMgEw', 8),\n",
       " ('QiKRKRbxb8kMjYiLH', 8),\n",
       " ('WxQyEYgu2aYuFhvBB', 8),\n",
       " ('g939ZKLYnmXXcYYmd', 6),\n",
       " ('F8QHpjcxav78R9o62', 6),\n",
       " ('9CBRzuDF4CNFmrAQq', 6),\n",
       " ('YLSgM2PrWYhGfjhoz', 5),\n",
       " ('sY2PHLSsXkPtG4hWy', 0),\n",
       " ('aq7paoDD2G6YADc2Y', 0),\n",
       " ('p6jyEN63CBePh9pJL', 0),\n",
       " ('RpdvawqmcQcXKLAcL', 0),\n",
       " ('jejaoCvoJPnvTFC3X', 0),\n",
       " ('miDuMw8zNEk2aC6FM', 0)]"
      ]
     },
     "execution_count": 24,
     "metadata": {},
     "output_type": "execute_result"
    }
   ],
   "source": [
    "ranking_score_all_ranked = sortScores(ranking_score_all)\n",
    "ranking_score_all_ranked"
   ]
  }
 ],
 "metadata": {
  "kernelspec": {
   "display_name": "Python 3",
   "language": "python",
   "name": "python3"
  },
  "language_info": {
   "codemirror_mode": {
    "name": "ipython",
    "version": 3
   },
   "file_extension": ".py",
   "mimetype": "text/x-python",
   "name": "python",
   "nbconvert_exporter": "python",
   "pygments_lexer": "ipython3",
   "version": "3.7.4"
  }
 },
 "nbformat": 4,
 "nbformat_minor": 2
}

{
 "cells": [
  {
   "cell_type": "code",
   "execution_count": 1,
   "metadata": {},
   "outputs": [
    {
     "ename": "ImportError",
     "evalue": "DLL load failed: La procédure spécifiée est introuvable.",
     "output_type": "error",
     "traceback": [
      "\u001b[1;31m---------------------------------------------------------------------------\u001b[0m",
      "\u001b[1;31mImportError\u001b[0m                               Traceback (most recent call last)",
      "\u001b[1;32m<ipython-input-1-7eefea96b983>\u001b[0m in \u001b[0;36m<module>\u001b[1;34m\u001b[0m\n\u001b[0;32m      3\u001b[0m \u001b[1;32mimport\u001b[0m \u001b[0mjson\u001b[0m\u001b[1;33m\u001b[0m\u001b[1;33m\u001b[0m\u001b[0m\n\u001b[0;32m      4\u001b[0m \u001b[1;32mimport\u001b[0m \u001b[0mmatplotlib\u001b[0m\u001b[1;33m.\u001b[0m\u001b[0mpyplot\u001b[0m \u001b[1;32mas\u001b[0m \u001b[0mplt\u001b[0m\u001b[1;33m\u001b[0m\u001b[1;33m\u001b[0m\u001b[0m\n\u001b[1;32m----> 5\u001b[1;33m \u001b[1;32mimport\u001b[0m \u001b[0mscipy\u001b[0m\u001b[1;33m.\u001b[0m\u001b[0mstats\u001b[0m \u001b[1;32mas\u001b[0m \u001b[0mst\u001b[0m\u001b[1;33m\u001b[0m\u001b[1;33m\u001b[0m\u001b[0m\n\u001b[0m",
      "\u001b[1;32m~\\Anaconda3\\lib\\site-packages\\scipy\\stats\\__init__.py\u001b[0m in \u001b[0;36m<module>\u001b[1;34m\u001b[0m\n\u001b[0;32m    377\u001b[0m \u001b[1;32mfrom\u001b[0m \u001b[0m__future__\u001b[0m \u001b[1;32mimport\u001b[0m \u001b[0mdivision\u001b[0m\u001b[1;33m,\u001b[0m \u001b[0mprint_function\u001b[0m\u001b[1;33m,\u001b[0m \u001b[0mabsolute_import\u001b[0m\u001b[1;33m\u001b[0m\u001b[1;33m\u001b[0m\u001b[0m\n\u001b[0;32m    378\u001b[0m \u001b[1;33m\u001b[0m\u001b[0m\n\u001b[1;32m--> 379\u001b[1;33m \u001b[1;32mfrom\u001b[0m \u001b[1;33m.\u001b[0m\u001b[0mstats\u001b[0m \u001b[1;32mimport\u001b[0m \u001b[1;33m*\u001b[0m\u001b[1;33m\u001b[0m\u001b[1;33m\u001b[0m\u001b[0m\n\u001b[0m\u001b[0;32m    380\u001b[0m \u001b[1;32mfrom\u001b[0m \u001b[1;33m.\u001b[0m\u001b[0mdistributions\u001b[0m \u001b[1;32mimport\u001b[0m \u001b[1;33m*\u001b[0m\u001b[1;33m\u001b[0m\u001b[1;33m\u001b[0m\u001b[0m\n\u001b[0;32m    381\u001b[0m \u001b[1;32mfrom\u001b[0m \u001b[1;33m.\u001b[0m\u001b[0mmorestats\u001b[0m \u001b[1;32mimport\u001b[0m \u001b[1;33m*\u001b[0m\u001b[1;33m\u001b[0m\u001b[1;33m\u001b[0m\u001b[0m\n",
      "\u001b[1;32m~\\Anaconda3\\lib\\site-packages\\scipy\\stats\\stats.py\u001b[0m in \u001b[0;36m<module>\u001b[1;34m\u001b[0m\n\u001b[0;32m    180\u001b[0m \u001b[1;32mimport\u001b[0m \u001b[0mscipy\u001b[0m\u001b[1;33m.\u001b[0m\u001b[0mspecial\u001b[0m \u001b[1;32mas\u001b[0m \u001b[0mspecial\u001b[0m\u001b[1;33m\u001b[0m\u001b[1;33m\u001b[0m\u001b[0m\n\u001b[0;32m    181\u001b[0m \u001b[1;32mfrom\u001b[0m \u001b[0mscipy\u001b[0m \u001b[1;32mimport\u001b[0m \u001b[0mlinalg\u001b[0m\u001b[1;33m\u001b[0m\u001b[1;33m\u001b[0m\u001b[0m\n\u001b[1;32m--> 182\u001b[1;33m \u001b[1;32mfrom\u001b[0m \u001b[1;33m.\u001b[0m \u001b[1;32mimport\u001b[0m \u001b[0mdistributions\u001b[0m\u001b[1;33m\u001b[0m\u001b[1;33m\u001b[0m\u001b[0m\n\u001b[0m\u001b[0;32m    183\u001b[0m \u001b[1;32mfrom\u001b[0m \u001b[1;33m.\u001b[0m \u001b[1;32mimport\u001b[0m \u001b[0mmstats_basic\u001b[0m\u001b[1;33m\u001b[0m\u001b[1;33m\u001b[0m\u001b[0m\n\u001b[0;32m    184\u001b[0m from ._stats_mstats_common import (_find_repeats, linregress, theilslopes,\n",
      "\u001b[1;32m~\\Anaconda3\\lib\\site-packages\\scipy\\stats\\distributions.py\u001b[0m in \u001b[0;36m<module>\u001b[1;34m\u001b[0m\n\u001b[0;32m      8\u001b[0m \u001b[1;32mfrom\u001b[0m \u001b[0m__future__\u001b[0m \u001b[1;32mimport\u001b[0m \u001b[0mdivision\u001b[0m\u001b[1;33m,\u001b[0m \u001b[0mprint_function\u001b[0m\u001b[1;33m,\u001b[0m \u001b[0mabsolute_import\u001b[0m\u001b[1;33m\u001b[0m\u001b[1;33m\u001b[0m\u001b[0m\n\u001b[0;32m      9\u001b[0m \u001b[1;33m\u001b[0m\u001b[0m\n\u001b[1;32m---> 10\u001b[1;33m from ._distn_infrastructure import (entropy, rv_discrete, rv_continuous,\n\u001b[0m\u001b[0;32m     11\u001b[0m                                     rv_frozen)\n\u001b[0;32m     12\u001b[0m \u001b[1;33m\u001b[0m\u001b[0m\n",
      "\u001b[1;32m~\\Anaconda3\\lib\\site-packages\\scipy\\stats\\_distn_infrastructure.py\u001b[0m in \u001b[0;36m<module>\u001b[1;34m\u001b[0m\n\u001b[0;32m     22\u001b[0m \u001b[1;33m\u001b[0m\u001b[0m\n\u001b[0;32m     23\u001b[0m \u001b[1;31m# for root finding for discrete distribution ppf, and max likelihood estimation\u001b[0m\u001b[1;33m\u001b[0m\u001b[1;33m\u001b[0m\u001b[1;33m\u001b[0m\u001b[0m\n\u001b[1;32m---> 24\u001b[1;33m \u001b[1;32mfrom\u001b[0m \u001b[0mscipy\u001b[0m \u001b[1;32mimport\u001b[0m \u001b[0moptimize\u001b[0m\u001b[1;33m\u001b[0m\u001b[1;33m\u001b[0m\u001b[0m\n\u001b[0m\u001b[0;32m     25\u001b[0m \u001b[1;33m\u001b[0m\u001b[0m\n\u001b[0;32m     26\u001b[0m \u001b[1;31m# for functions of continuous distributions (e.g. moments, entropy, cdf)\u001b[0m\u001b[1;33m\u001b[0m\u001b[1;33m\u001b[0m\u001b[1;33m\u001b[0m\u001b[0m\n",
      "\u001b[1;32m~\\Anaconda3\\lib\\site-packages\\scipy\\optimize\\__init__.py\u001b[0m in \u001b[0;36m<module>\u001b[1;34m\u001b[0m\n\u001b[0;32m    389\u001b[0m \u001b[1;33m\u001b[0m\u001b[0m\n\u001b[0;32m    390\u001b[0m \u001b[1;32mfrom\u001b[0m \u001b[1;33m.\u001b[0m\u001b[0moptimize\u001b[0m \u001b[1;32mimport\u001b[0m \u001b[1;33m*\u001b[0m\u001b[1;33m\u001b[0m\u001b[1;33m\u001b[0m\u001b[0m\n\u001b[1;32m--> 391\u001b[1;33m \u001b[1;32mfrom\u001b[0m \u001b[1;33m.\u001b[0m\u001b[0m_minimize\u001b[0m \u001b[1;32mimport\u001b[0m \u001b[1;33m*\u001b[0m\u001b[1;33m\u001b[0m\u001b[1;33m\u001b[0m\u001b[0m\n\u001b[0m\u001b[0;32m    392\u001b[0m \u001b[1;32mfrom\u001b[0m \u001b[1;33m.\u001b[0m\u001b[0m_root\u001b[0m \u001b[1;32mimport\u001b[0m \u001b[1;33m*\u001b[0m\u001b[1;33m\u001b[0m\u001b[1;33m\u001b[0m\u001b[0m\n\u001b[0;32m    393\u001b[0m \u001b[1;32mfrom\u001b[0m \u001b[1;33m.\u001b[0m\u001b[0m_root_scalar\u001b[0m \u001b[1;32mimport\u001b[0m \u001b[1;33m*\u001b[0m\u001b[1;33m\u001b[0m\u001b[1;33m\u001b[0m\u001b[0m\n",
      "\u001b[1;32m~\\Anaconda3\\lib\\site-packages\\scipy\\optimize\\_minimize.py\u001b[0m in \u001b[0;36m<module>\u001b[1;34m\u001b[0m\n\u001b[0;32m     28\u001b[0m \u001b[1;32mfrom\u001b[0m \u001b[1;33m.\u001b[0m\u001b[0m_trustregion_krylov\u001b[0m \u001b[1;32mimport\u001b[0m \u001b[0m_minimize_trust_krylov\u001b[0m\u001b[1;33m\u001b[0m\u001b[1;33m\u001b[0m\u001b[0m\n\u001b[0;32m     29\u001b[0m \u001b[1;32mfrom\u001b[0m \u001b[1;33m.\u001b[0m\u001b[0m_trustregion_exact\u001b[0m \u001b[1;32mimport\u001b[0m \u001b[0m_minimize_trustregion_exact\u001b[0m\u001b[1;33m\u001b[0m\u001b[1;33m\u001b[0m\u001b[0m\n\u001b[1;32m---> 30\u001b[1;33m \u001b[1;32mfrom\u001b[0m \u001b[1;33m.\u001b[0m\u001b[0m_trustregion_constr\u001b[0m \u001b[1;32mimport\u001b[0m \u001b[0m_minimize_trustregion_constr\u001b[0m\u001b[1;33m\u001b[0m\u001b[1;33m\u001b[0m\u001b[0m\n\u001b[0m\u001b[0;32m     31\u001b[0m \u001b[1;33m\u001b[0m\u001b[0m\n\u001b[0;32m     32\u001b[0m \u001b[1;31m# constrained minimization\u001b[0m\u001b[1;33m\u001b[0m\u001b[1;33m\u001b[0m\u001b[1;33m\u001b[0m\u001b[0m\n",
      "\u001b[1;32m~\\Anaconda3\\lib\\site-packages\\scipy\\optimize\\_trustregion_constr\\__init__.py\u001b[0m in \u001b[0;36m<module>\u001b[1;34m\u001b[0m\n\u001b[0;32m      2\u001b[0m \u001b[1;33m\u001b[0m\u001b[0m\n\u001b[0;32m      3\u001b[0m \u001b[1;33m\u001b[0m\u001b[0m\n\u001b[1;32m----> 4\u001b[1;33m \u001b[1;32mfrom\u001b[0m \u001b[1;33m.\u001b[0m\u001b[0mminimize_trustregion_constr\u001b[0m \u001b[1;32mimport\u001b[0m \u001b[0m_minimize_trustregion_constr\u001b[0m\u001b[1;33m\u001b[0m\u001b[1;33m\u001b[0m\u001b[0m\n\u001b[0m\u001b[0;32m      5\u001b[0m \u001b[1;33m\u001b[0m\u001b[0m\n\u001b[0;32m      6\u001b[0m \u001b[0m__all__\u001b[0m \u001b[1;33m=\u001b[0m \u001b[1;33m[\u001b[0m\u001b[1;34m'_minimize_trustregion_constr'\u001b[0m\u001b[1;33m]\u001b[0m\u001b[1;33m\u001b[0m\u001b[1;33m\u001b[0m\u001b[0m\n",
      "\u001b[1;32m~\\Anaconda3\\lib\\site-packages\\scipy\\optimize\\_trustregion_constr\\minimize_trustregion_constr.py\u001b[0m in \u001b[0;36m<module>\u001b[1;34m\u001b[0m\n\u001b[0;32m      2\u001b[0m \u001b[1;32mimport\u001b[0m \u001b[0mtime\u001b[0m\u001b[1;33m\u001b[0m\u001b[1;33m\u001b[0m\u001b[0m\n\u001b[0;32m      3\u001b[0m \u001b[1;32mimport\u001b[0m \u001b[0mnumpy\u001b[0m \u001b[1;32mas\u001b[0m \u001b[0mnp\u001b[0m\u001b[1;33m\u001b[0m\u001b[1;33m\u001b[0m\u001b[0m\n\u001b[1;32m----> 4\u001b[1;33m \u001b[1;32mfrom\u001b[0m \u001b[0mscipy\u001b[0m\u001b[1;33m.\u001b[0m\u001b[0msparse\u001b[0m\u001b[1;33m.\u001b[0m\u001b[0mlinalg\u001b[0m \u001b[1;32mimport\u001b[0m \u001b[0mLinearOperator\u001b[0m\u001b[1;33m\u001b[0m\u001b[1;33m\u001b[0m\u001b[0m\n\u001b[0m\u001b[0;32m      5\u001b[0m \u001b[1;32mfrom\u001b[0m \u001b[1;33m.\u001b[0m\u001b[1;33m.\u001b[0m\u001b[0m_differentiable_functions\u001b[0m \u001b[1;32mimport\u001b[0m \u001b[0mVectorFunction\u001b[0m\u001b[1;33m\u001b[0m\u001b[1;33m\u001b[0m\u001b[0m\n\u001b[0;32m      6\u001b[0m from .._constraints import (\n",
      "\u001b[1;32m~\\Anaconda3\\lib\\site-packages\\scipy\\sparse\\linalg\\__init__.py\u001b[0m in \u001b[0;36m<module>\u001b[1;34m\u001b[0m\n\u001b[0;32m    114\u001b[0m \u001b[1;32mfrom\u001b[0m \u001b[1;33m.\u001b[0m\u001b[0mdsolve\u001b[0m \u001b[1;32mimport\u001b[0m \u001b[1;33m*\u001b[0m\u001b[1;33m\u001b[0m\u001b[1;33m\u001b[0m\u001b[0m\n\u001b[0;32m    115\u001b[0m \u001b[1;32mfrom\u001b[0m \u001b[1;33m.\u001b[0m\u001b[0minterface\u001b[0m \u001b[1;32mimport\u001b[0m \u001b[1;33m*\u001b[0m\u001b[1;33m\u001b[0m\u001b[1;33m\u001b[0m\u001b[0m\n\u001b[1;32m--> 116\u001b[1;33m \u001b[1;32mfrom\u001b[0m \u001b[1;33m.\u001b[0m\u001b[0meigen\u001b[0m \u001b[1;32mimport\u001b[0m \u001b[1;33m*\u001b[0m\u001b[1;33m\u001b[0m\u001b[1;33m\u001b[0m\u001b[0m\n\u001b[0m\u001b[0;32m    117\u001b[0m \u001b[1;32mfrom\u001b[0m \u001b[1;33m.\u001b[0m\u001b[0mmatfuncs\u001b[0m \u001b[1;32mimport\u001b[0m \u001b[1;33m*\u001b[0m\u001b[1;33m\u001b[0m\u001b[1;33m\u001b[0m\u001b[0m\n\u001b[0;32m    118\u001b[0m \u001b[1;32mfrom\u001b[0m \u001b[1;33m.\u001b[0m\u001b[0m_onenormest\u001b[0m \u001b[1;32mimport\u001b[0m \u001b[1;33m*\u001b[0m\u001b[1;33m\u001b[0m\u001b[1;33m\u001b[0m\u001b[0m\n",
      "\u001b[1;32m~\\Anaconda3\\lib\\site-packages\\scipy\\sparse\\linalg\\eigen\\__init__.py\u001b[0m in \u001b[0;36m<module>\u001b[1;34m\u001b[0m\n\u001b[0;32m      9\u001b[0m \u001b[1;32mfrom\u001b[0m \u001b[0m__future__\u001b[0m \u001b[1;32mimport\u001b[0m \u001b[0mdivision\u001b[0m\u001b[1;33m,\u001b[0m \u001b[0mprint_function\u001b[0m\u001b[1;33m,\u001b[0m \u001b[0mabsolute_import\u001b[0m\u001b[1;33m\u001b[0m\u001b[1;33m\u001b[0m\u001b[0m\n\u001b[0;32m     10\u001b[0m \u001b[1;33m\u001b[0m\u001b[0m\n\u001b[1;32m---> 11\u001b[1;33m \u001b[1;32mfrom\u001b[0m \u001b[1;33m.\u001b[0m\u001b[0marpack\u001b[0m \u001b[1;32mimport\u001b[0m \u001b[1;33m*\u001b[0m\u001b[1;33m\u001b[0m\u001b[1;33m\u001b[0m\u001b[0m\n\u001b[0m\u001b[0;32m     12\u001b[0m \u001b[1;32mfrom\u001b[0m \u001b[1;33m.\u001b[0m\u001b[0mlobpcg\u001b[0m \u001b[1;32mimport\u001b[0m \u001b[1;33m*\u001b[0m\u001b[1;33m\u001b[0m\u001b[1;33m\u001b[0m\u001b[0m\n\u001b[0;32m     13\u001b[0m \u001b[1;33m\u001b[0m\u001b[0m\n",
      "\u001b[1;32m~\\Anaconda3\\lib\\site-packages\\scipy\\sparse\\linalg\\eigen\\arpack\\__init__.py\u001b[0m in \u001b[0;36m<module>\u001b[1;34m\u001b[0m\n\u001b[0;32m     20\u001b[0m \u001b[1;32mfrom\u001b[0m \u001b[0m__future__\u001b[0m \u001b[1;32mimport\u001b[0m \u001b[0mdivision\u001b[0m\u001b[1;33m,\u001b[0m \u001b[0mprint_function\u001b[0m\u001b[1;33m,\u001b[0m \u001b[0mabsolute_import\u001b[0m\u001b[1;33m\u001b[0m\u001b[1;33m\u001b[0m\u001b[0m\n\u001b[0;32m     21\u001b[0m \u001b[1;33m\u001b[0m\u001b[0m\n\u001b[1;32m---> 22\u001b[1;33m \u001b[1;32mfrom\u001b[0m \u001b[1;33m.\u001b[0m\u001b[0marpack\u001b[0m \u001b[1;32mimport\u001b[0m \u001b[1;33m*\u001b[0m\u001b[1;33m\u001b[0m\u001b[1;33m\u001b[0m\u001b[0m\n\u001b[0m",
      "\u001b[1;32m~\\Anaconda3\\lib\\site-packages\\scipy\\sparse\\linalg\\eigen\\arpack\\arpack.py\u001b[0m in \u001b[0;36m<module>\u001b[1;34m\u001b[0m\n\u001b[0;32m     43\u001b[0m \u001b[0m__all__\u001b[0m \u001b[1;33m=\u001b[0m \u001b[1;33m[\u001b[0m\u001b[1;34m'eigs'\u001b[0m\u001b[1;33m,\u001b[0m \u001b[1;34m'eigsh'\u001b[0m\u001b[1;33m,\u001b[0m \u001b[1;34m'svds'\u001b[0m\u001b[1;33m,\u001b[0m \u001b[1;34m'ArpackError'\u001b[0m\u001b[1;33m,\u001b[0m \u001b[1;34m'ArpackNoConvergence'\u001b[0m\u001b[1;33m]\u001b[0m\u001b[1;33m\u001b[0m\u001b[1;33m\u001b[0m\u001b[0m\n\u001b[0;32m     44\u001b[0m \u001b[1;33m\u001b[0m\u001b[0m\n\u001b[1;32m---> 45\u001b[1;33m \u001b[1;32mfrom\u001b[0m \u001b[1;33m.\u001b[0m \u001b[1;32mimport\u001b[0m \u001b[0m_arpack\u001b[0m\u001b[1;33m\u001b[0m\u001b[1;33m\u001b[0m\u001b[0m\n\u001b[0m\u001b[0;32m     46\u001b[0m \u001b[1;32mimport\u001b[0m \u001b[0mnumpy\u001b[0m \u001b[1;32mas\u001b[0m \u001b[0mnp\u001b[0m\u001b[1;33m\u001b[0m\u001b[1;33m\u001b[0m\u001b[0m\n\u001b[0;32m     47\u001b[0m \u001b[1;32mimport\u001b[0m \u001b[0mwarnings\u001b[0m\u001b[1;33m\u001b[0m\u001b[1;33m\u001b[0m\u001b[0m\n",
      "\u001b[1;31mImportError\u001b[0m: DLL load failed: La procédure spécifiée est introuvable."
     ]
    }
   ],
   "source": [
    "import numpy as np\n",
    "import pandas as pd\n",
    "import json\n",
    "import matplotlib.pyplot as plt\n",
    "import scipy.stats as st"
   ]
  },
  {
   "cell_type": "code",
   "execution_count": 2,
   "metadata": {},
   "outputs": [],
   "source": [
    "def answeredTrue(answer):\n",
    "    if answer.get('0') is not None:\n",
    "        return 1\n",
    "    else:\n",
    "        return 0\n",
    "\n",
    "def valueOrZero(answer):\n",
    "    if answer.get('value'):\n",
    "        if int(answer['value']) < 0 or int(answer['value']) > 10:\n",
    "            raise Exception('This mf right there')\n",
    "        return int(answer['value'])\n",
    "    else:\n",
    "        return 0\n",
    "    \n",
    "def loadData(path):\n",
    "    with open(path) as f:\n",
    "        jfile = json.load(f)\n",
    "    return jfile['payload']\n",
    "\n",
    "def sortScores(scores):\n",
    "    return sorted(list(scores.items()), key=lambda s: -s[1])"
   ]
  },
  {
   "cell_type": "code",
   "execution_count": 3,
   "metadata": {},
   "outputs": [],
   "source": [
    "path_guess_the_trick = 'ac/1-guess-the-trick__p1__ac-quiz-2hul/product.json'\n",
    "path_user_mapping = 'op/argue-with-constrai__op-argue-constraint-3fzq/object.json'\n",
    "path_peer_review = 'ac/5-review-your-partners__p1__ac-quiz-2jjm/product.json'\n",
    "path_auto_review = 'ac/6-auto-review__p1__ac-quiz-1jpz/product.json'\n",
    "path_ranking_t1 = 'ac/6-ranking-t1__p1__ac-ranking-8blf/product.json'\n",
    "path_ranking_t2 = 'ac/6-ranking-t2__p1__ac-ranking-b07c/product.json'\n",
    "path_review_pairing = 'op/argue-with-constrai__op-argue-constraint-3fzq/product.json'\n",
    "path_groups = 'op/create-groups__op-create-groups-8lh1/product.json'"
   ]
  },
  {
   "cell_type": "markdown",
   "metadata": {},
   "source": [
    "## Preparation: user mapping"
   ]
  },
  {
   "cell_type": "code",
   "execution_count": 4,
   "metadata": {},
   "outputs": [],
   "source": [
    "with open(path_user_mapping) as f:\n",
    "    mapping = json.load(f)\n",
    "idToStud = mapping['globalStructure']['students']\n",
    "studToId = {v: k for k, v in idToStud.items()} #inverse mapping"
   ]
  },
  {
   "cell_type": "code",
   "execution_count": 5,
   "metadata": {},
   "outputs": [],
   "source": [
    "with open(path_groups) as f:\n",
    "    trick_groups = json.load(f)['socialStructure']['group']\n",
    "\n",
    "#odd: trick 1 (packet flip trick), pair: trick 2 (bent card trick)\n",
    "def groupNumber(student):\n",
    "    for groupNumber, groupList in trick_groups.items():\n",
    "        if student in groupList:\n",
    "            return int(groupNumber)\n",
    "    return -1"
   ]
  },
  {
   "cell_type": "markdown",
   "metadata": {},
   "source": [
    "## First part: evaluate magic knowledge"
   ]
  },
  {
   "cell_type": "code",
   "execution_count": 6,
   "metadata": {},
   "outputs": [],
   "source": [
    "data = loadData(path_guess_the_trick)"
   ]
  },
  {
   "cell_type": "code",
   "execution_count": 7,
   "metadata": {},
   "outputs": [],
   "source": [
    "knowledge = {}\n",
    "saw_changed_cap = []\n",
    "for student in data:\n",
    "    d = {}\n",
    "    answers = data[student]['data']['form']\n",
    "    d['guess_trick'] = answers['0']['text']\n",
    "    score = 0\n",
    "    score += answeredTrue(answers['1'])\n",
    "    for mcq in answers['2']:\n",
    "        if mcq and mcq not in ['0', 'text']: #For each kind of magic trick learned\n",
    "            score+=1\n",
    "    score += valueOrZero(answers['3']) #Magic knowledge\n",
    "    if answeredTrue(answers['4']) == 1:\n",
    "        saw_changed_cap.append(student)\n",
    "    d['score'] = score\n",
    "    knowledge[student] = d"
   ]
  },
  {
   "cell_type": "code",
   "execution_count": 8,
   "metadata": {},
   "outputs": [
    {
     "name": "stdout",
     "output_type": "stream",
     "text": [
      "At the second time, the coin falls on your knees1\n",
      "I think he dropped the piece off the table before scratching his arm1\n",
      "0\n",
      "I don't know.0\n",
      "I'm not sure (was still logging into frog, sorry!)0\n",
      "Two coins stacked on top of each other, then sweeps then onto lap;\n",
      "Could also be one coin but got hinted/misdirected at two with the doublelift video 0\n",
      "he hides the coin with the arm and hand which he used to hold the coin when he lets it drop.1\n",
      "0\n",
      "the coin fall on the knees of the magician1\n",
      "No idea0\n",
      "I missed the trick :( 0\n",
      "coin falls down1\n",
      "The coin fell out of the screen video almost, so the magician simply pushed the coin out of the screen, instead of reaching out to pick it up.0\n",
      "third time you throw the coin under the table.1\n",
      "0\n",
      "0\n",
      "The coin fell in his lap 1\n",
      "0\n",
      "Distraction by letting the coin going away, the second time you glide it under the table (?)1\n",
      "The first 2 times, the coin falls on the table. That makes us watch the falling point on the thrid time, misleading us no to see the coin fall on the magician's lap. Focusing all the time on his right hand, we can spot a strange move, that's probably when he made the coin \"disappear\" my \"throwing\" it on his lapx.1\n",
      "0\n"
     ]
    }
   ],
   "source": [
    "#Parse answers\n",
    "#You'll be prompted the text the student wrote and you can grade his/her answers\n",
    "for student in knowledge:\n",
    "    mark = int(input(knowledge[student]['guess_trick']))\n",
    "    previous_score = knowledge[student]['score']\n",
    "    knowledge[student].pop('guess_trick')\n",
    "    knowledge[student].pop('score')\n",
    "    knowledge[student] = previous_score + mark"
   ]
  },
  {
   "cell_type": "code",
   "execution_count": 9,
   "metadata": {},
   "outputs": [
    {
     "name": "stdout",
     "output_type": "stream",
     "text": [
      "[('3C2G6L2Lb7Xc9pWLE', 16), ('SeuW5C9Zh7BYK6qCb', 13), ('tGZEmTZtkhSJMp2u6', 9), ('WxQyEYgu2aYuFhvBB', 8), ('QiKRKRbxb8kMjYiLH', 7), ('aq7paoDD2G6YADc2Y', 7), ('5evKgJk6KjDdDqSZZ', 6), ('EBTm8RrapfNuTADYE', 6), ('g939ZKLYnmXXcYYmd', 6), ('p6jyEN63CBePh9pJL', 6), ('si96GLusTjpboyLXY', 6), ('F8QHpjcxav78R9o62', 5), ('KngyjFCgLrzfN6XaR', 5), ('cJ9ydcLaGxLuvMgEw', 5), ('YLSgM2PrWYhGfjhoz', 4), ('tkMkquazFa4TZBd8C', 1), ('9CBRzuDF4CNFmrAQq', 0), ('RpdvawqmcQcXKLAcL', 0), ('jejaoCvoJPnvTFC3X', 0), ('miDuMw8zNEk2aC6FM', 0), ('sY2PHLSsXkPtG4hWy', 0)]\n"
     ]
    }
   ],
   "source": [
    "knowledge_ranked = sortScores(knowledge)\n",
    "print(knowledge_ranked)"
   ]
  },
  {
   "cell_type": "markdown",
   "metadata": {},
   "source": [
    "## Second part: partner evaluation"
   ]
  },
  {
   "cell_type": "code",
   "execution_count": 10,
   "metadata": {},
   "outputs": [],
   "source": [
    "data = loadData(path_peer_review)\n",
    "with open(path_review_pairing) as f:\n",
    "    pairing = json.load(f)['socialStructure']['group']\n",
    "\n",
    "def findPartner(studID):\n",
    "    for _, pairList in pairing.items():\n",
    "        if studID in pairList:\n",
    "            index = pairList.index(studID)\n",
    "            size = len(pairList)\n",
    "            return pairList[(size-1 + index) % size] #return the next element in list"
   ]
  },
  {
   "cell_type": "code",
   "execution_count": 11,
   "metadata": {},
   "outputs": [],
   "source": [
    "mcq_answer_t1 = {\"0\": False, \"1\": True, \"2\": False, \"3\": False, \"text\": \"\"} #Only misdirection\n",
    "mcq_answer_t2 = {\"0\": True, \"1\": False, \"2\": False, \"3\": False, \"text\": \"\"} #Only double lift"
   ]
  },
  {
   "cell_type": "code",
   "execution_count": 12,
   "metadata": {},
   "outputs": [
    {
     "name": "stdout",
     "output_type": "stream",
     "text": [
      "She misdirected me but we weren't able to record it for dropbox reasons unfortunally1\n",
      "I'm sorry but the video on frog did not work for me, so I was unable to join a teammate and show my trick or see my teammate's trick. Sorry for the inconveniance....\n",
      "I was alone in the reunion\n",
      "It was too fast (we took the whole time to set up recording on Dropbox) so it was hard for me to understand what he was saying, he did it so fast!\n",
      "I already knew the trick; The deck was prepped by flipping it and putting one card face down before putting the pulled card into the deck. I did get misdirected though but knew how the trick worked so i could figure it out afterhand1\n",
      "I couldn't join a room to show the trick. So I won't answer the above to not bias anything.\n",
      "He didn't have time to perform\n",
      "He dissimulated the right card with the double lift or something1\n",
      "My camera and mic did not work somehow on frog I could not do the activity sorry :( \n",
      "We couldn't complete the trick, my classmate's microphone wasn't working and then he took a while to set up the dropbox account, so neither of us had the time to show the trick.\n",
      "As he didn't come I believe he used the 'lazy' trick :(  \n",
      "I was alone\n",
      "I was alone\n",
      "j'Ã©tais tout seul\n"
     ]
    }
   ],
   "source": [
    "review_scores = {}\n",
    "for student in data:\n",
    "    paired_student = findPartner(student)\n",
    "    answers = data[student]['data']['form']\n",
    "    if not answers['3']['text']:\n",
    "        review_scores[paired_student] = -1\n",
    "        continue\n",
    "    else: #check answers manually\n",
    "        self_score = input(answers['3']['text']) #Leave empty to invalidate\n",
    "        if not self_score:\n",
    "            review_scores[paired_student] = -1\n",
    "            continue\n",
    "        self_score = int(self_score)\n",
    "        partner_score = answeredTrue(answers['0']) * 5 #Fooled\n",
    "        partner_score += valueOrZero(answers['1']) #Performance\n",
    "        if groupNumber(student) % 2 == 0: #Techniques used\n",
    "            #trick 2\n",
    "            self_score += int(answers['2'] == mcq_answer_t2)\n",
    "        else:\n",
    "            #trick 1\n",
    "            self_score += int(answers['2'] == mcq_answer_t1)\n",
    "            \n",
    "        if review_scores.get(paired_student):\n",
    "            review_scores[paired_student] += partner_score\n",
    "        else:\n",
    "            review_scores[paired_student] = partner_score\n",
    "        \n",
    "        if review_scores.get(student):\n",
    "            review_scores[student] += self_score\n",
    "        else:\n",
    "            review_scores[student] = self_score"
   ]
  },
  {
   "cell_type": "code",
   "execution_count": 13,
   "metadata": {},
   "outputs": [
    {
     "data": {
      "text/plain": [
       "[('KngyjFCgLrzfN6XaR', 15),\n",
       " ('cJ9ydcLaGxLuvMgEw', 12),\n",
       " ('WxQyEYgu2aYuFhvBB', 9),\n",
       " ('3C2G6L2Lb7Xc9pWLE', -1),\n",
       " ('RpdvawqmcQcXKLAcL', -1),\n",
       " ('p6jyEN63CBePh9pJL', -1),\n",
       " ('YLSgM2PrWYhGfjhoz', -1),\n",
       " ('SeuW5C9Zh7BYK6qCb', -1),\n",
       " ('tGZEmTZtkhSJMp2u6', -1),\n",
       " ('5evKgJk6KjDdDqSZZ', -1),\n",
       " ('F8QHpjcxav78R9o62', -1),\n",
       " ('EBTm8RrapfNuTADYE', -1),\n",
       " ('si96GLusTjpboyLXY', -1),\n",
       " ('sY2PHLSsXkPtG4hWy', -1),\n",
       " ('tkMkquazFa4TZBd8C', -1),\n",
       " ('g939ZKLYnmXXcYYmd', -1),\n",
       " ('9CBRzuDF4CNFmrAQq', -1),\n",
       " ('miDuMw8zNEk2aC6FM', -1),\n",
       " ('aq7paoDD2G6YADc2Y', -1),\n",
       " ('QiKRKRbxb8kMjYiLH', -1),\n",
       " ('jejaoCvoJPnvTFC3X', -1)]"
      ]
     },
     "execution_count": 13,
     "metadata": {},
     "output_type": "execute_result"
    }
   ],
   "source": [
    "review_scores_ranked = sortScores(review_scores)\n",
    "review_scores_ranked"
   ]
  },
  {
   "cell_type": "markdown",
   "metadata": {},
   "source": [
    "## Third part: auto evaluation"
   ]
  },
  {
   "cell_type": "code",
   "execution_count": 14,
   "metadata": {},
   "outputs": [],
   "source": [
    "data = loadData(path_auto_review)"
   ]
  },
  {
   "cell_type": "code",
   "execution_count": 15,
   "metadata": {},
   "outputs": [
    {
     "name": "stdout",
     "output_type": "stream",
     "text": [
      "Yannis David Charpilloz  rated an invalid score of  -1\n",
      "pol  rated an invalid score of  -1\n"
     ]
    },
    {
     "data": {
      "text/plain": [
       "{'3C2G6L2Lb7Xc9pWLE': 29,\n",
       " '5evKgJk6KjDdDqSZZ': 13,\n",
       " '9CBRzuDF4CNFmrAQq': 18,\n",
       " 'EBTm8RrapfNuTADYE': 15,\n",
       " 'F8QHpjcxav78R9o62': 10,\n",
       " 'KngyjFCgLrzfN6XaR': 11,\n",
       " 'QiKRKRbxb8kMjYiLH': 12,\n",
       " 'RpdvawqmcQcXKLAcL': 0,\n",
       " 'SeuW5C9Zh7BYK6qCb': 16,\n",
       " 'WxQyEYgu2aYuFhvBB': 27,\n",
       " 'YLSgM2PrWYhGfjhoz': 1,\n",
       " 'aq7paoDD2G6YADc2Y': 0,\n",
       " 'cJ9ydcLaGxLuvMgEw': 8,\n",
       " 'g939ZKLYnmXXcYYmd': 29,\n",
       " 'jejaoCvoJPnvTFC3X': 0,\n",
       " 'miDuMw8zNEk2aC6FM': 0,\n",
       " 'p6jyEN63CBePh9pJL': 0,\n",
       " 'sY2PHLSsXkPtG4hWy': 0,\n",
       " 'si96GLusTjpboyLXY': 22,\n",
       " 'tGZEmTZtkhSJMp2u6': 22,\n",
       " 'tkMkquazFa4TZBd8C': 18}"
      ]
     },
     "execution_count": 15,
     "metadata": {},
     "output_type": "execute_result"
    }
   ],
   "source": [
    "auto_eval = {}\n",
    "for student in data:\n",
    "    answers = data[student]['data']['form']\n",
    "    score = 0\n",
    "    score += valueOrZero(answers['0']) #Rate performance\n",
    "    score += valueOrZero(answers['1']) #How well will you remember\n",
    "    score += answeredTrue(answers['2']) #Better with more time\n",
    "    try:\n",
    "        risky_answer = valueOrZero(answers['3']) #Fool colleague\n",
    "    except:\n",
    "        print(idToStud[student], ' rated an invalid score of ', int(answers['3']['value']))\n",
    "    #score += valueOrZero(answers['3']) #Fool colleague\n",
    "    score += risky_answer\n",
    "    auto_eval[student] = score\n",
    "auto_eval"
   ]
  },
  {
   "cell_type": "code",
   "execution_count": 16,
   "metadata": {},
   "outputs": [
    {
     "data": {
      "text/plain": [
       "[('3C2G6L2Lb7Xc9pWLE', 29),\n",
       " ('g939ZKLYnmXXcYYmd', 29),\n",
       " ('WxQyEYgu2aYuFhvBB', 27),\n",
       " ('si96GLusTjpboyLXY', 22),\n",
       " ('tGZEmTZtkhSJMp2u6', 22),\n",
       " ('9CBRzuDF4CNFmrAQq', 18),\n",
       " ('tkMkquazFa4TZBd8C', 18),\n",
       " ('SeuW5C9Zh7BYK6qCb', 16),\n",
       " ('EBTm8RrapfNuTADYE', 15),\n",
       " ('5evKgJk6KjDdDqSZZ', 13),\n",
       " ('QiKRKRbxb8kMjYiLH', 12),\n",
       " ('KngyjFCgLrzfN6XaR', 11),\n",
       " ('F8QHpjcxav78R9o62', 10),\n",
       " ('cJ9ydcLaGxLuvMgEw', 8),\n",
       " ('YLSgM2PrWYhGfjhoz', 1),\n",
       " ('RpdvawqmcQcXKLAcL', 0),\n",
       " ('aq7paoDD2G6YADc2Y', 0),\n",
       " ('jejaoCvoJPnvTFC3X', 0),\n",
       " ('miDuMw8zNEk2aC6FM', 0),\n",
       " ('p6jyEN63CBePh9pJL', 0),\n",
       " ('sY2PHLSsXkPtG4hWy', 0)]"
      ]
     },
     "execution_count": 16,
     "metadata": {},
     "output_type": "execute_result"
    }
   ],
   "source": [
    "auto_eval_ranked = sortScores(auto_eval)\n",
    "auto_eval_ranked"
   ]
  },
  {
   "cell_type": "markdown",
   "metadata": {},
   "source": [
    "## Fourth part: ranking activity evaluation"
   ]
  },
  {
   "cell_type": "code",
   "execution_count": 17,
   "metadata": {},
   "outputs": [],
   "source": [
    "data_t1 = loadData(path_ranking_t1)\n",
    "data_t2 = loadData(path_ranking_t2)"
   ]
  },
  {
   "cell_type": "code",
   "execution_count": 18,
   "metadata": {},
   "outputs": [],
   "source": [
    "correct_order_t1 = {\n",
    "            \"Flip the bottom card of the deck\": 1,\n",
    "            \"Perform a misdirection to flip the packet\": 2,\n",
    "            \"Replace the spectator's card in the middle of the deck\": 3,\n",
    "            \"Remove the first card of the deck to reveal that all cards have been 'magically' flipped\": 4,\n",
    "            \"Reveal the chosen card\": 5,\n",
    "            \"----END OF THE TRICK----\": 6,\n",
    "            \"Remove the two first cards\": 7,\n",
    "            \"Flip the top three cards\": 8\n",
    "          }\n",
    "correct_order_t2 = {\n",
    "            \"Execute a double lift\": 1,\n",
    "            \"Bend the two cards as one\": 2,\n",
    "            \"Place the top card in the middle of the deck\": 3,\n",
    "            \"Keep the bent top card hidden (flat) while replacing the other one in the middle of the deck\": 4,\n",
    "            \"Let the top card pop\": 5,\n",
    "            \"----END OF THE TRICK----\": 6,\n",
    "            \"Draw 2 cards and discard one \": 7\n",
    "          }"
   ]
  },
  {
   "cell_type": "code",
   "execution_count": 19,
   "metadata": {},
   "outputs": [],
   "source": [
    "ranking_score_t1 = {}\n",
    "for student in data_t1:\n",
    "    answers = data_t1[student]['data']['answers']\n",
    "    if answers.get(student) and answers[student]:\n",
    "        student_ranking = answers[student]\n",
    "        mistakes = 0\n",
    "        for question, order in correct_order_t1.items():\n",
    "            if not student_ranking.get(question) or (order < 6 and abs(student_ranking[question] - order) != mistakes):\n",
    "                mistakes += 1\n",
    "        ranking_score_t1[student] = max(0, 10 - mistakes)"
   ]
  },
  {
   "cell_type": "code",
   "execution_count": 20,
   "metadata": {},
   "outputs": [
    {
     "data": {
      "text/plain": [
       "[('EBTm8RrapfNuTADYE', 10),\n",
       " ('SeuW5C9Zh7BYK6qCb', 10),\n",
       " ('QiKRKRbxb8kMjYiLH', 8),\n",
       " ('WxQyEYgu2aYuFhvBB', 8),\n",
       " ('cJ9ydcLaGxLuvMgEw', 8)]"
      ]
     },
     "execution_count": 20,
     "metadata": {},
     "output_type": "execute_result"
    }
   ],
   "source": [
    "ranking_score_t1_ranked = sortScores(ranking_score_t1)\n",
    "ranking_score_t1_ranked"
   ]
  },
  {
   "cell_type": "code",
   "execution_count": 21,
   "metadata": {},
   "outputs": [],
   "source": [
    "ranking_score_t2 = {}\n",
    "for student in data_t2:\n",
    "    answers = data_t2[student]['data']['answers']\n",
    "    if answers.get(student) and answers[student]:\n",
    "        student_ranking = answers[student]\n",
    "        mistakes = 0\n",
    "        for question, order in correct_order_t2.items():\n",
    "            if not student_ranking.get(question) or (order < 6 and abs(student_ranking[question] - order) != mistakes):\n",
    "                mistakes += 1\n",
    "        ranking_score_t2[student] = max(0, 10 - mistakes)"
   ]
  },
  {
   "cell_type": "code",
   "execution_count": 22,
   "metadata": {},
   "outputs": [
    {
     "data": {
      "text/plain": [
       "[('3C2G6L2Lb7Xc9pWLE', 10),\n",
       " ('tkMkquazFa4TZBd8C', 10),\n",
       " ('5evKgJk6KjDdDqSZZ', 9),\n",
       " ('KngyjFCgLrzfN6XaR', 9),\n",
       " ('si96GLusTjpboyLXY', 9),\n",
       " ('tGZEmTZtkhSJMp2u6', 9),\n",
       " ('9CBRzuDF4CNFmrAQq', 6),\n",
       " ('F8QHpjcxav78R9o62', 6),\n",
       " ('g939ZKLYnmXXcYYmd', 6),\n",
       " ('YLSgM2PrWYhGfjhoz', 5)]"
      ]
     },
     "execution_count": 22,
     "metadata": {},
     "output_type": "execute_result"
    }
   ],
   "source": [
    "ranking_score_t2_ranked = sortScores(ranking_score_t2)\n",
    "ranking_score_t2_ranked"
   ]
  },
  {
   "cell_type": "code",
   "execution_count": 23,
   "metadata": {},
   "outputs": [],
   "source": [
    "ranking_score_all = {}\n",
    "for student, name in idToStud.items():\n",
    "    if ranking_score_t1.get(student):\n",
    "        score = ranking_score_t1[student]\n",
    "    elif ranking_score_t2.get(student):\n",
    "        score = ranking_score_t2[student]\n",
    "    else:\n",
    "        score = 0\n",
    "    ranking_score_all[student] = score"
   ]
  },
  {
   "cell_type": "code",
   "execution_count": 24,
   "metadata": {},
   "outputs": [
    {
     "data": {
      "text/plain": [
       "[('EBTm8RrapfNuTADYE', 10),\n",
       " ('3C2G6L2Lb7Xc9pWLE', 10),\n",
       " ('SeuW5C9Zh7BYK6qCb', 10),\n",
       " ('tkMkquazFa4TZBd8C', 10),\n",
       " ('tGZEmTZtkhSJMp2u6', 9),\n",
       " ('si96GLusTjpboyLXY', 9),\n",
       " ('5evKgJk6KjDdDqSZZ', 9),\n",
       " ('KngyjFCgLrzfN6XaR', 9),\n",
       " ('cJ9ydcLaGxLuvMgEw', 8),\n",
       " ('QiKRKRbxb8kMjYiLH', 8),\n",
       " ('WxQyEYgu2aYuFhvBB', 8),\n",
       " ('g939ZKLYnmXXcYYmd', 6),\n",
       " ('F8QHpjcxav78R9o62', 6),\n",
       " ('9CBRzuDF4CNFmrAQq', 6),\n",
       " ('YLSgM2PrWYhGfjhoz', 5),\n",
       " ('sY2PHLSsXkPtG4hWy', 0),\n",
       " ('aq7paoDD2G6YADc2Y', 0),\n",
       " ('p6jyEN63CBePh9pJL', 0),\n",
       " ('RpdvawqmcQcXKLAcL', 0),\n",
       " ('jejaoCvoJPnvTFC3X', 0),\n",
       " ('miDuMw8zNEk2aC6FM', 0)]"
      ]
     },
     "execution_count": 24,
     "metadata": {},
     "output_type": "execute_result"
    }
   ],
   "source": [
    "ranking_score_all_ranked = sortScores(ranking_score_all)\n",
    "ranking_score_all_ranked"
   ]
  },
  {
   "cell_type": "markdown",
   "metadata": {},
   "source": [
    "## Overall score and ranking"
   ]
  },
  {
   "cell_type": "code",
   "execution_count": 25,
   "metadata": {},
   "outputs": [
    {
     "name": "stdout",
     "output_type": "stream",
     "text": [
      "21\n",
      "21\n",
      "21\n",
      "21\n"
     ]
    }
   ],
   "source": [
    "print(len(knowledge_ranked))\n",
    "print(len(review_scores_ranked))\n",
    "print(len(auto_eval_ranked))\n",
    "print(len(ranking_score_all_ranked))"
   ]
  },
  {
   "cell_type": "code",
   "execution_count": 26,
   "metadata": {},
   "outputs": [
    {
     "data": {
      "text/plain": [
       "[('WxQyEYgu2aYuFhvBB', 44),\n",
       " ('3C2G6L2Lb7Xc9pWLE', 38),\n",
       " ('KngyjFCgLrzfN6XaR', 35),\n",
       " ('g939ZKLYnmXXcYYmd', 34),\n",
       " ('tGZEmTZtkhSJMp2u6', 30),\n",
       " ('si96GLusTjpboyLXY', 30),\n",
       " ('cJ9ydcLaGxLuvMgEw', 28),\n",
       " ('tkMkquazFa4TZBd8C', 27),\n",
       " ('SeuW5C9Zh7BYK6qCb', 25),\n",
       " ('EBTm8RrapfNuTADYE', 24),\n",
       " ('9CBRzuDF4CNFmrAQq', 23),\n",
       " ('5evKgJk6KjDdDqSZZ', 21),\n",
       " ('QiKRKRbxb8kMjYiLH', 19),\n",
       " ('F8QHpjcxav78R9o62', 15),\n",
       " ('YLSgM2PrWYhGfjhoz', 5),\n",
       " ('RpdvawqmcQcXKLAcL', -1),\n",
       " ('p6jyEN63CBePh9pJL', -1),\n",
       " ('sY2PHLSsXkPtG4hWy', -1),\n",
       " ('miDuMw8zNEk2aC6FM', -1),\n",
       " ('aq7paoDD2G6YADc2Y', -1),\n",
       " ('jejaoCvoJPnvTFC3X', -1)]"
      ]
     },
     "execution_count": 26,
     "metadata": {},
     "output_type": "execute_result"
    }
   ],
   "source": [
    "total_score = {}\n",
    "for id, score in review_scores.items():\n",
    "    score += auto_eval[id]\n",
    "    score += ranking_score_all[id]\n",
    "    total_score[id] = score\n",
    "\n",
    "total_score_ranked = sortScores(total_score)\n",
    "total_score_ranked"
   ]
  },
  {
   "cell_type": "code",
   "execution_count": 27,
   "metadata": {},
   "outputs": [],
   "source": [
    "#De-anonymize because we're gangsters\n",
    "def mapToNames(data):\n",
    "    if type(data) is dict:\n",
    "        mapped = {}\n",
    "        for id, score in data.items():\n",
    "            mapped[idToStud[id]] = score\n",
    "        return mapped\n",
    "    elif type(data) is list:\n",
    "        mapped = []\n",
    "        for id, score in data:\n",
    "            mapped.append((idToStud[id], score))\n",
    "        return mapped\n",
    "    else:\n",
    "        raise Exception('Wrong data type')"
   ]
  },
  {
   "cell_type": "code",
   "execution_count": 28,
   "metadata": {},
   "outputs": [],
   "source": [
    "def isSolo(groupNumber):\n",
    "    return groupNumber % 4 == 0 or groupNumber % 4 == 1\n",
    "\n",
    "def splitFromTrainingMethod(data):\n",
    "    if type(data) is dict:\n",
    "        solo = {}\n",
    "        duo = {}\n",
    "        for id, score in data.items():\n",
    "            if isSolo(groupNumber(id)):\n",
    "                solo[id] = score\n",
    "            else:\n",
    "                duo[id] = score\n",
    "        return solo, duo\n",
    "    elif type(data) is list:\n",
    "        solo = []\n",
    "        duo = []\n",
    "        for id, score in data:\n",
    "            if isSolo(groupNumber(id)):\n",
    "                solo.append((id, score))\n",
    "            else:\n",
    "                duo.append((id, score))\n",
    "        return solo, duo\n",
    "    else:\n",
    "        raise Exception('Wrong data type')"
   ]
  },
  {
   "cell_type": "code",
   "execution_count": 29,
   "metadata": {},
   "outputs": [
    {
     "data": {
      "text/plain": [
       "[('MichaÃ«l Spierer', 38),\n",
       " ('Maxime Alexandre Fellrath', 34),\n",
       " ('Mariko Makhmutova', 28),\n",
       " ('pol', 27),\n",
       " ('FranÃ§ois Marie Quellec', 25),\n",
       " ('Gonxhe Idrizi', 19),\n",
       " ('Daniel Jeffrey Smarda', 15),\n",
       " ('Shasha Jiang', -1),\n",
       " ('Amine Chaouachi', -1),\n",
       " ('Chen Li', -1),\n",
       " ('Guillaume Romain CÃ©dric Augustoni', -1)]"
      ]
     },
     "execution_count": 29,
     "metadata": {},
     "output_type": "execute_result"
    }
   ],
   "source": [
    "solo_score, duo_score = splitFromTrainingMethod(total_score_ranked)\n",
    "mapToNames(solo_score)"
   ]
  },
  {
   "cell_type": "code",
   "execution_count": 30,
   "metadata": {},
   "outputs": [
    {
     "data": {
      "text/plain": [
       "[('Arthur Benjamin Simon Passuello', 44),\n",
       " ('Ryan Christophe Yared', 35),\n",
       " ('Yannis David Charpilloz', 30),\n",
       " ('Emma EugÃ©nie Antoinette Lanctuit', 30),\n",
       " ('Meret Moeschler', 24),\n",
       " ('Ilija Gjorgjiev', 23),\n",
       " ('Corentin Junod', 21),\n",
       " ('Marijn Van Der Meer', 5),\n",
       " ('Julien Von Felten', -1),\n",
       " ('Maxime Nicolas David Cochet', -1)]"
      ]
     },
     "execution_count": 30,
     "metadata": {},
     "output_type": "execute_result"
    }
   ],
   "source": [
    "mapToNames(duo_score)"
   ]
  },
  {
   "cell_type": "markdown",
   "metadata": {},
   "source": [
    "## Statistical Analysis"
   ]
  },
  {
   "cell_type": "code",
   "execution_count": 31,
   "metadata": {},
   "outputs": [
    {
     "name": "stdout",
     "output_type": "stream",
     "text": [
      "Solo results are : [38, 37, 34, 28, 27, 19, 15] \n",
      "with mean 28.285714285714285, \n",
      "standard deviation 8.171628369185767 \n",
      "and variance 66.77551020408164\n",
      "\n",
      "Duo results are : [44, 35, 30, 30, 24, 23, 21, 5] \n",
      "with mean 26.5, \n",
      "standard deviation 10.688779163215974 \n",
      "and variance 114.25\n"
     ]
    }
   ],
   "source": [
    "\n",
    "solo_results = list(filter(lambda x:x!=-1,[s[1] for s in solo_score]))\n",
    "duo_results = list(filter(lambda x:x!=-1,[s[1] for s in duo_score]))\n",
    "\n",
    "#pd.DataFrame({'training_method' : df_class, 'score' : df_score})\n",
    "print(f'Solo results are : { solo_results} \\nwith mean {np.mean( solo_results)}, \\nstandard deviation {np.std(solo_results)} \\nand variance {np.var(solo_results)}')\n",
    "print(f'\\nDuo results are : { duo_results} \\nwith mean {np.mean( duo_results)}, \\nstandard deviation {np.std(duo_results)} \\nand variance {np.var(duo_results)}')"
   ]
  },
  {
   "cell_type": "code",
   "execution_count": 324,
   "metadata": {},
   "outputs": [
    {
     "data": {
      "image/png": "[encoded data removed]",
      "text/plain": [
       "<Figure size 432x288 with 1 Axes>"
      ]
     },
     "metadata": {
      "needs_background": "light"
     },
     "output_type": "display_data"
    }
   ],
   "source": [
    "# Box plot results\n",
    "data = [solo_results,duo_results]\n",
    "plt.boxplot(data, labels=['Solo training', 'Pair training'])\n",
    "for i in range(len(data)):\n",
    "    y = data[i]\n",
    "    x = np.random.normal(1+i, 0.04, size=len(y))\n",
    "    plt.plot(x, y, 'r.', alpha=0.2)\n",
    "plt.ylabel('Final score')\n",
    "plt.title('Boxplots of Final Scores given training method')\n",
    "plt.show()"
   ]
  },
  {
   "cell_type": "markdown",
   "metadata": {},
   "source": [
    "\n",
    "Although the mean results seem to be a bit higher for people that trained in alone, we need to check if this statistically significant. \n",
    "\n",
    "Here we are in the case where we want to asses if a categorical variable (the student training in pairs versus alone ) \n",
    "has an impact on a quantitative value (how well they learn). \n",
    "Thus we choose to make use of the t-test. In order to use this statistical test we have to ensure that our data follows a normal distribution and that the two samples have similiar variances.\n"
   ]
  },
  {
   "cell_type": "code",
   "execution_count": 34,
   "metadata": {},
   "outputs": [
    {
     "name": "stdout",
     "output_type": "stream",
     "text": [
      "Run Shapiro test to check for normality of our data :\n"
     ]
    },
    {
     "ename": "NameError",
     "evalue": "name 'st' is not defined",
     "output_type": "error",
     "traceback": [
      "\u001b[1;31m---------------------------------------------------------------------------\u001b[0m",
      "\u001b[1;31mNameError\u001b[0m                                 Traceback (most recent call last)",
      "\u001b[1;32m<ipython-input-34-183a9ed63b25>\u001b[0m in \u001b[0;36m<module>\u001b[1;34m\u001b[0m\n\u001b[0;32m      1\u001b[0m \u001b[0mprint\u001b[0m\u001b[1;33m(\u001b[0m\u001b[1;34m'Run Shapiro test to check for normality of our data :'\u001b[0m\u001b[1;33m)\u001b[0m\u001b[1;33m\u001b[0m\u001b[1;33m\u001b[0m\u001b[0m\n\u001b[0;32m      2\u001b[0m \u001b[1;33m\u001b[0m\u001b[0m\n\u001b[1;32m----> 3\u001b[1;33m \u001b[0mprint\u001b[0m\u001b[1;33m(\u001b[0m\u001b[1;34m'Shapiro test results for solo_results :\\n'\u001b[0m\u001b[1;33m,\u001b[0m \u001b[0mst\u001b[0m\u001b[1;33m.\u001b[0m\u001b[0mshapiro\u001b[0m\u001b[1;33m(\u001b[0m\u001b[0msolo_results\u001b[0m\u001b[1;33m)\u001b[0m\u001b[1;33m)\u001b[0m\u001b[1;33m\u001b[0m\u001b[1;33m\u001b[0m\u001b[0m\n\u001b[0m\u001b[0;32m      4\u001b[0m \u001b[0mprint\u001b[0m\u001b[1;33m(\u001b[0m\u001b[1;34m'Shapiro test results for duo_results :\\n'\u001b[0m\u001b[1;33m,\u001b[0m \u001b[0mst\u001b[0m\u001b[1;33m.\u001b[0m\u001b[0mshapiro\u001b[0m\u001b[1;33m(\u001b[0m\u001b[0mduo_results\u001b[0m\u001b[1;33m)\u001b[0m\u001b[1;33m)\u001b[0m\u001b[1;33m\u001b[0m\u001b[1;33m\u001b[0m\u001b[0m\n\u001b[0;32m      5\u001b[0m \u001b[1;33m\u001b[0m\u001b[0m\n",
      "\u001b[1;31mNameError\u001b[0m: name 'st' is not defined"
     ]
    }
   ],
   "source": [
    "print('Run Shapiro test to check for normality of our data :')\n",
    "\n",
    "print('Shapiro test results for solo_results :\\n', st.shapiro(solo_results))\n",
    "print('Shapiro test results for duo_results :\\n', st.shapiro(duo_results))\n",
    "\n",
    "print('\\nRun Bartlett test to check equality of variances : ')\n",
    "\n",
    "print(st.bartlett(solo_results,duo_results))"
   ]
  },
  {
   "cell_type": "markdown",
   "metadata": {},
   "source": [
    "From the Shapiro test, since for both samples the p-values is greater than 0.05, we cannot reject the null hypothesis, and thus conclude that they both follow a normal distribution. \n",
    "\n",
    "From the Bartlett test, we also get p-value > 0.05, thus we once again cannot reject the null hypothesis that that the variances are equal. \n",
    "\n",
    "We conclude that the assumptions for using t-test are met and we can run it. \n"
   ]
  },
  {
   "cell_type": "code",
   "execution_count": null,
   "metadata": {},
   "outputs": [],
   "source": [
    "print('\\nRun Ttest to check for equality of means :')\n",
    "\n",
    "print(st.ttest_ind(solo_results, duo_results))"
   ]
  },
  {
   "cell_type": "markdown",
   "metadata": {},
   "source": [
    "When running our t-test, we get a p-value greater than 0.05. This means that we cannot reject the null hypothesis of the means being the same, thus we conclude that the means of our two samples are the same. \n",
    "\n",
    "This means that the results of our experiment are not sufficient to conclude on the difference of efficiency between training in pairs or alone.\n"
   ]
  },
  {
   "cell_type": "markdown",
   "metadata": {},
   "source": [
    "## Link between previous knowledge and results\n"
   ]
  },
  {
   "cell_type": "code",
   "execution_count": 313,
   "metadata": {},
   "outputs": [],
   "source": [
    "previous_to_final = []\n",
    "prv_score = {}\n",
    "for id_, prev_score in knowledge_ranked:\n",
    "    prv_score[id_] = prev_score\n",
    "for id_, final_score in total_score_ranked:\n",
    "    if final_score != -1 : \n",
    "        previous_to_final.append((prv_score[id_],final_score))"
   ]
  },
  {
   "cell_type": "code",
   "execution_count": 316,
   "metadata": {},
   "outputs": [
    {
     "data": {
      "image/png": "[encoded data removed]",
      "text/plain": [
       "<Figure size 432x288 with 1 Axes>"
      ]
     },
     "metadata": {
      "needs_background": "light"
     },
     "output_type": "display_data"
    }
   ],
   "source": [
    "import seaborn as sns \n",
    "x = [s[0] for s in previous_to_final]\n",
    "y = [s[1] for s in previous_to_final]\n",
    "sns.regplot(x=x, y=y)\n",
    "plt.xlabel(\"Previous knowledge of participants\")\n",
    "plt.ylabel(\"Final score\")\n",
    "plt.title(\"Regression between previous knowledge and final score\")\n",
    "plt.show()"
   ]
  },
  {
   "cell_type": "markdown",
   "metadata": {},
   "source": [
    "We can observe a small impact of the previous knowledge on the final results but given the small size of our sample and the relatively big size of our confidence interval, we cannot really deduce much from this relationship."
   ]
  },
  {
   "cell_type": "markdown",
   "metadata": {},
   "source": [
    "## Difference between the two tricks\n",
    "\n"
   ]
  },
  {
   "cell_type": "code",
   "execution_count": 44,
   "metadata": {},
   "outputs": [],
   "source": [
    "#split the two tricks\n",
    "trick1_results = []\n",
    "trick2_results = []\n",
    "\n",
    "for id, score in total_score_ranked:\n",
    "    if groupNumber(id) % 2 == 1: #trick1\n",
    "        trick1_results.append(score)\n",
    "    else:\n",
    "        trick2_results.append(score)\n",
    "        \n",
    "trick1_results = list(filter(lambda x:x!=-1,[s for s in trick1_results]))\n",
    "trick2_results = list(filter(lambda x:x!=-1,[s for s in trick2_results]))"
   ]
  },
  {
   "cell_type": "code",
   "execution_count": 47,
   "metadata": {},
   "outputs": [
    {
     "data": {
      "text/plain": [
       "[44, 28, 25, 24, 19]"
      ]
     },
     "execution_count": 47,
     "metadata": {},
     "output_type": "execute_result"
    }
   ],
   "source": [
    "trick1_results"
   ]
  },
  {
   "cell_type": "code",
   "execution_count": 48,
   "metadata": {},
   "outputs": [
    {
     "data": {
      "text/plain": [
       "[38, 35, 34, 30, 30, 27, 23, 21, 15, 5]"
      ]
     },
     "execution_count": 48,
     "metadata": {},
     "output_type": "execute_result"
    }
   ],
   "source": [
    "trick2_results"
   ]
  },
  {
   "cell_type": "code",
   "execution_count": 46,
   "metadata": {},
   "outputs": [
    {
     "data": {
      "image/png": "[encoded data removed]",
      "text/plain": [
       "<Figure size 432x288 with 1 Axes>"
      ]
     },
     "metadata": {
      "needs_background": "light"
     },
     "output_type": "display_data"
    }
   ],
   "source": [
    "# Box plot results\n",
    "data = [trick1_results,trick2_results]\n",
    "plt.boxplot(data, labels=['Trick 1 results', 'Trick 2 results'])\n",
    "for i in range(len(data)):\n",
    "    y = data[i]\n",
    "    x = np.random.normal(1+i, 0.04, size=len(y))\n",
    "    plt.plot(x, y, 'r.', alpha=0.2)\n",
    "plt.show()\n",
    "\n",
    "#print(st.describe(trick1_results))\n",
    "#print(st.describe(trick2_results))"
   ]
  },
  {
   "cell_type": "markdown",
   "metadata": {},
   "source": [
    "## Limitaitons :\n",
    "- The size of our sample \n",
    "- The evaluation method (hard to be objective + limitations techniques) "
   ]
  }
 ],
 "metadata": {
  "kernelspec": {
   "display_name": "Python 3",
   "language": "python",
   "name": "python3"
  },
  "language_info": {
   "codemirror_mode": {
    "name": "ipython",
    "version": 3
   },
   "file_extension": ".py",
   "mimetype": "text/x-python",
   "name": "python",
   "nbconvert_exporter": "python",
   "pygments_lexer": "ipython3",
   "version": "3.6.7rc1"
  }
 },
 "nbformat": 4,
 "nbformat_minor": 4
}
